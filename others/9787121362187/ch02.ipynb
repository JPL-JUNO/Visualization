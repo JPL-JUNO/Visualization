{
 "cells": [
  {
   "cell_type": "code",
   "execution_count": 2,
   "metadata": {},
   "outputs": [
    {
     "name": "stdout",
     "output_type": "stream",
     "text": [
      "\n",
      "@File         : ch02.ipynb\n",
      "@Author(s)    : Stephen CUI\n",
      "@LastEditor(s): Stephen CUI\n",
      "@CreatedTime  : 2024-02-18 23:12:35\n",
      "@Email        : cuixuanstephen@gmail.com\n",
      "@Description  : 使用模块 patches 绘制几何图形\n",
      "\n"
     ]
    }
   ],
   "source": [
    "print(\"\"\"\n",
    "@File         : ch02.ipynb\n",
    "@Author(s)    : Stephen CUI\n",
    "@LastEditor(s): Stephen CUI\n",
    "@CreatedTime  : 2024-02-18 23:12:35\n",
    "@Email        : cuixuanstephen@gmail.com\n",
    "@Description  : 使用模块 patches 绘制几何图形\n",
    "\"\"\")"
   ]
  },
  {
   "cell_type": "markdown",
   "metadata": {},
   "source": [
    "# 使用模块 patches 绘制几何图形"
   ]
  },
  {
   "cell_type": "markdown",
   "metadata": {},
   "source": [
    "模块 patches 主要用来完成多边形的绘制工作。这些多边形都是以类（Class）的形式出现的，主要包括圆（Circle）、椭圆（Ellipse）、矩形（Rectangle）、圆弧（Arc）、楔形（Wedge）等几何图形。"
   ]
  },
  {
   "cell_type": "markdown",
   "metadata": {},
   "source": [
    "## 圆的实现方法\n",
    "\n",
    "圆的构造函数是实现圆的绘制的实例方法"
   ]
  },
  {
   "cell_type": "markdown",
   "metadata": {},
   "source": [
    "## 椭圆的实现方法"
   ]
  },
  {
   "cell_type": "markdown",
   "metadata": {},
   "source": [
    "绘制椭圆可以通过类 `Ellipse` 实现。"
   ]
  },
  {
   "cell_type": "markdown",
   "metadata": {},
   "source": [
    "## 矩形的实现方法\n",
    "\n",
    "矩形是数据可视化中一种比较常见的几何图形。在具体实践中，我们通过类 `Rectangle` 生成矩形实例，将矩形实例添加到坐标轴中，从而完成矩形的绘制任务。这种多边形既可以充当坐标轴背景，也可以作为组合图形的一部分。"
   ]
  },
  {
   "cell_type": "markdown",
   "metadata": {},
   "source": [
    "## 圆弧和楔形的绘制方法\n",
    "\n",
    "圆弧作为椭圆的一部分而被大量使用，楔形作为圆的一部分而得到广泛应用。具体而言，圆弧的实现方法是借助类 `Arc` 实现的，楔形是通过类 `Wedge` 进行绘制的。"
   ]
  },
  {
   "cell_type": "markdown",
   "metadata": {},
   "source": [
    "`Arc((2.5, 1.1), 3, 1, angle=10, theta1=0, theta2=180, color=\"k\", alpha=0.8)`\n",
    "\n",
    "具体参数和参数值的含义如下：\n",
    "- (2.5, 1.1)：圆弧的中心位置的坐标。\n",
    "- 3：圆弧的宽度。\n",
    "- 1：圆弧的高度。\n",
    "- angle：圆弧的逆时针旋转的角度。\n",
    "- theta1：圆弧起点处的角度。\n",
    "- theta2：圆弧终点处的角度。\n",
    "- color：圆弧的颜色。\n",
    "- alpha：圆弧的透明度。\n",
    "\n",
    "理解为一个水平的椭圆，然后旋转 `angle`，`theta1` 和 `theta2` 是极坐标下的弧度"
   ]
  },
  {
   "cell_type": "markdown",
   "metadata": {},
   "source": [
    "`Wedge((2, 7), 0.3, 15, 345, color=\"k\")`，具体参数和参数值的含义如下：\n",
    "\n",
    "- (2, 7)：楔形的中心位置的坐标。\n",
    "- 0.3：楔形的半径。\n",
    "- 15：楔形起始位置的角度（逆时针方向旋转）。\n",
    "- 345：楔形终止位置的角度（逆时针方向旋转）。\n",
    "- color：楔形的填充区域颜色。\n",
    "  \n",
    "`Wedge((0, 4.0), 0.2, 290, 250, color=\"k\")`"
   ]
  },
  {
   "cell_type": "markdown",
   "metadata": {},
   "source": [
    "## 延伸阅读"
   ]
  },
  {
   "cell_type": "markdown",
   "metadata": {},
   "source": [
    "### 使用折线绘制圆"
   ]
  },
  {
   "cell_type": "markdown",
   "metadata": {},
   "source": [
    "### 使用椭圆绘制圆"
   ]
  },
  {
   "cell_type": "markdown",
   "metadata": {},
   "source": [
    "一般而言，我们可以使用类 `Ellipse` 绘制圆，但是不可以使用类 `Circle` 绘制椭圆。因为我们使用类 `Ellipse` 绘制圆，只需要保证参数 `width` 和 `height` 的取值相同而且刻度线的变化量相同即可完成圆的绘制任务。如果参数 `width` 和 `height` 的取值相同，但是刻度线的变化量不一致，则也可以使用类 `Circle` 完成绘制椭圆的任务。我们使用类 `Circle` 绘制椭圆，如果参数 `width` 和 `height` 的取值不相同，就无法完成使用类 `Circle` 绘制椭圆的工作。"
   ]
  },
  {
   "cell_type": "markdown",
   "metadata": {},
   "source": [
    "### 使用楔形绘制饼图\n",
    "\n",
    "我们使用楔形既可以绘制圆形，也可以绘制圆形的一部分。"
   ]
  },
  {
   "cell_type": "markdown",
   "metadata": {},
   "source": [
    "### 使用楔形绘制圆环式饼图"
   ]
  },
  {
   "cell_type": "markdown",
   "metadata": {},
   "source": [
    "使用楔形绘制圆环式饼图的关键在于类 `Wedge` 中的参数 `width`。使用参数 `width` 设置圆环的宽度，楔形的半径是以外圆的半径作为计算标准的，圆环的宽度就是外圆和内圆的半径差值。"
   ]
  },
  {
   "cell_type": "markdown",
   "metadata": {},
   "source": []
  }
 ],
 "metadata": {
  "kernelspec": {
   "display_name": "fi",
   "language": "python",
   "name": "python3"
  },
  "language_info": {
   "codemirror_mode": {
    "name": "ipython",
    "version": 3
   },
   "file_extension": ".py",
   "mimetype": "text/x-python",
   "name": "python",
   "nbconvert_exporter": "python",
   "pygments_lexer": "ipython3",
   "version": "3.7.16"
  }
 },
 "nbformat": 4,
 "nbformat_minor": 2
}
